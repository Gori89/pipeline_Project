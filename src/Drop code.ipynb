{
 "cells": [
  {
   "cell_type": "code",
   "execution_count": null,
   "metadata": {},
   "outputs": [],
   "source": [
    "from dotenv import load_dotenv\n",
    "import os\n",
    "import requests\n",
    "\n",
    "load_dotenv()\n",
    "aemetToken= os.getenv(\"AEMET_KEY\")\n",
    "\n",
    "def authRequest(url, params={}):\n",
    "    headers = {\n",
    "       \"Authorization\": \"token {}\".format(aemetToken)\n",
    "    }\n",
    "    response = requests.get(url,headers=headers, params=params)\n",
    "\n",
    "    return response.json()\n",
    "\n",
    "\n",
    "url = \"https://opendata.aemet.es/opendata/api/valores/climatologicos/diarios/datos/fechaini/2018-06-01T11%3A33%3A54.000Z/fechafin/2018-06-03T11%3A33%3A54.000Z\"\n",
    "#codigo de api\n",
    "querystring = {\"api_key\":aemetToken}\n",
    "headers = {\n",
    "    'cache-control': \"no-cache\"}\n",
    "response = requests.request(\"GET\", url, headers=headers, params=querystring)\n",
    "    \n",
    "def authRequest(url, params={}):\n",
    "    headers = {\n",
    "       \"Authorization\": \"token {}\".format(aemetToken)\n",
    "    }\n",
    "    response = requests.get(url,headers=headers, params=params)\n",
    "\n",
    "    return response.json()\n",
    "\n",
    "\n",
    "response.text"
   ]
  }
 ],
 "metadata": {
  "kernelspec": {
   "display_name": "Python 3",
   "language": "python",
   "name": "python3"
  },
  "language_info": {
   "codemirror_mode": {
    "name": "ipython",
    "version": 3
   },
   "file_extension": ".py",
   "mimetype": "text/x-python",
   "name": "python",
   "nbconvert_exporter": "python",
   "pygments_lexer": "ipython3",
   "version": "3.7.4"
  }
 },
 "nbformat": 4,
 "nbformat_minor": 2
}
