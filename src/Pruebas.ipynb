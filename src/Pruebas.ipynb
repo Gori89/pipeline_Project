{
 "cells": [
  {
   "cell_type": "code",
   "execution_count": null,
   "metadata": {},
   "outputs": [],
   "source": [
    "\n",
    "\n"
   ]
  },
  {
   "cell_type": "code",
   "execution_count": 1,
   "metadata": {},
   "outputs": [],
   "source": [
    "#scrap info"
   ]
  },
  {
   "cell_type": "code",
   "execution_count": 2,
   "metadata": {},
   "outputs": [],
   "source": [
    "import time\n",
    "import requests\n",
    "import matplotlib.pyplot as plt\n",
    "import datetime\n",
    "import pandas as pd"
   ]
  },
  {
   "cell_type": "code",
   "execution_count": 3,
   "metadata": {},
   "outputs": [
    {
     "ename": "IndentationError",
     "evalue": "expected an indented block (scraping.py, line 91)",
     "output_type": "error",
     "traceback": [
      "Traceback \u001b[0;36m(most recent call last)\u001b[0m:\n",
      "  File \u001b[1;32m\"/home/linuxbrew/.linuxbrew/opt/python/lib/python3.7/site-packages/IPython/core/interactiveshell.py\"\u001b[0m, line \u001b[1;32m3326\u001b[0m, in \u001b[1;35mrun_code\u001b[0m\n    exec(code_obj, self.user_global_ns, self.user_ns)\n",
      "\u001b[0;36m  File \u001b[0;32m\"<ipython-input-3-4948872e59be>\"\u001b[0;36m, line \u001b[0;32m1\u001b[0;36m, in \u001b[0;35m<module>\u001b[0;36m\u001b[0m\n\u001b[0;31m    import tools.scraping as weather\u001b[0m\n",
      "\u001b[0;36m  File \u001b[0;32m\"/home/frn/Curso Analisis de datos/pipeline_project/src/tools/scraping.py\"\u001b[0;36m, line \u001b[0;32m91\u001b[0m\n\u001b[0;31m    pass\u001b[0m\n\u001b[0m       ^\u001b[0m\n\u001b[0;31mIndentationError\u001b[0m\u001b[0;31m:\u001b[0m expected an indented block\n"
     ]
    }
   ],
   "source": [
    "import tools.scraping as weather\n",
    "import tools.dataset as ds"
   ]
  },
  {
   "cell_type": "code",
   "execution_count": null,
   "metadata": {},
   "outputs": [],
   "source": [
    "date=datetime.datetime.strptime(\"2017-02-03\", \"%Y-%m-%d\")"
   ]
  },
  {
   "cell_type": "code",
   "execution_count": null,
   "metadata": {},
   "outputs": [],
   "source": [
    "clima=weather.getWeather(date, \"3195\")\n",
    "clima"
   ]
  },
  {
   "cell_type": "code",
   "execution_count": null,
   "metadata": {},
   "outputs": [],
   "source": []
  },
  {
   "cell_type": "code",
   "execution_count": null,
   "metadata": {},
   "outputs": [],
   "source": []
  },
  {
   "cell_type": "code",
   "execution_count": null,
   "metadata": {},
   "outputs": [],
   "source": []
  },
  {
   "cell_type": "markdown",
   "metadata": {},
   "source": [
    "### Load datase"
   ]
  },
  {
   "cell_type": "code",
   "execution_count": null,
   "metadata": {},
   "outputs": [],
   "source": [
    "\n",
    "print(\"Fecha \",date)\n",
    "#print(\"Periodo \",ds.getPeriod())\n",
    "delta=ds.setDelta(40)\n",
    "print(\"Delta \",delta)\n",
    "df_pollution=ds.getDataset(date, delta)\n",
    "print(\"Tamaño dataset \",df_pollution.shape)\n",
    "df_pollution.head()\n"
   ]
  },
  {
   "cell_type": "code",
   "execution_count": null,
   "metadata": {},
   "outputs": [],
   "source": []
  },
  {
   "cell_type": "markdown",
   "metadata": {},
   "source": [
    "### Convertir date en el index de las filas y agrupar valores"
   ]
  },
  {
   "cell_type": "code",
   "execution_count": null,
   "metadata": {},
   "outputs": [],
   "source": [
    "df_pollution=ds.dateToIndex(df_pollution)\n",
    "df_pollution_mean=ds.meanbyDate(df_pollution)\n",
    "df_pollution_mean.head()"
   ]
  },
  {
   "cell_type": "code",
   "execution_count": null,
   "metadata": {},
   "outputs": [],
   "source": []
  },
  {
   "cell_type": "markdown",
   "metadata": {},
   "source": [
    "### Pintar grafica"
   ]
  },
  {
   "cell_type": "code",
   "execution_count": null,
   "metadata": {},
   "outputs": [],
   "source": [
    "#date=datetime.date(2017,1,20)\n",
    "#dateDelta=datetime.timedelta(days=4)\n",
    "filter_before=df_pollution_mean.index.date>=(date-delta).date()\n",
    "filter_after=df_pollution_mean.index.date<=(date+delta).date()\n",
    "\n",
    "df=df_pollution_mean[filter_before & filter_after]\n",
    "\n",
    "df.columns"
   ]
  },
  {
   "cell_type": "code",
   "execution_count": null,
   "metadata": {},
   "outputs": [],
   "source": []
  },
  {
   "cell_type": "code",
   "execution_count": null,
   "metadata": {},
   "outputs": [],
   "source": [
    "# pintar sobre la gáfica los l/m2\n"
   ]
  },
  {
   "cell_type": "code",
   "execution_count": null,
   "metadata": {},
   "outputs": [],
   "source": [
    "\n",
    "plt.plot(df[\"BEN\"])\n",
    "plt.xticks(rotation=45)\n",
    "plt.savefig(\"fig.png\")"
   ]
  },
  {
   "cell_type": "code",
   "execution_count": null,
   "metadata": {},
   "outputs": [],
   "source": []
  },
  {
   "cell_type": "code",
   "execution_count": null,
   "metadata": {},
   "outputs": [],
   "source": [
    "df[\"lluvia\"]=2\n",
    "df.head()"
   ]
  },
  {
   "cell_type": "code",
   "execution_count": null,
   "metadata": {},
   "outputs": [],
   "source": [
    "fig, ax = plt.subplots()\n",
    "df.plot(y=\"BEN\", ax=ax,figsize=(10,5))\n",
    "df.plot(y=\"lluvia\", ax=ax, figsize=(10,5))\n",
    "plt.xticks(rotation='25')\n",
    "\n",
    "fig.savefig(\"fig.png\")"
   ]
  },
  {
   "cell_type": "code",
   "execution_count": null,
   "metadata": {},
   "outputs": [],
   "source": [
    "#Crear PDF\n",
    "\n"
   ]
  },
  {
   "cell_type": "code",
   "execution_count": null,
   "metadata": {},
   "outputs": [],
   "source": [
    "from fpdf import FPDF\n",
    "\n",
    "pdf = FPDF()\n",
    "pdf.add_page()\n",
    "pdf.set_font('Arial', 'B', 16)\n",
    "pdf.cell(40, 10, 'Analisis de contaminacion en Madrid')\n",
    "pdf.image('fig.png',50,50)\n",
    "pdf.output('Analiseis_Contaminacion_{}-{}-{}.pdf'.format(date1.day,date1.month,date1.year), 'F')\n"
   ]
  },
  {
   "cell_type": "code",
   "execution_count": null,
   "metadata": {},
   "outputs": [],
   "source": [
    "#Enviar mail\n",
    "import os\n",
    "\n",
    "os.getcwd()\n",
    "\n"
   ]
  },
  {
   "cell_type": "code",
   "execution_count": null,
   "metadata": {},
   "outputs": [],
   "source": [
    "date1\n"
   ]
  },
  {
   "cell_type": "code",
   "execution_count": null,
   "metadata": {},
   "outputs": [],
   "source": [
    "#Adjuntar pdf al mail"
   ]
  },
  {
   "cell_type": "code",
   "execution_count": null,
   "metadata": {},
   "outputs": [],
   "source": [
    "from email import encoders\n",
    "from email.mime.base import MIMEBase\n",
    "from email.mime.multipart import MIMEMultipart\n",
    "from email.mime.text import MIMEText"
   ]
  },
  {
   "cell_type": "code",
   "execution_count": null,
   "metadata": {},
   "outputs": [],
   "source": [
    "to=\"pipeironhack@gmail.com\""
   ]
  },
  {
   "cell_type": "code",
   "execution_count": null,
   "metadata": {},
   "outputs": [],
   "source": [
    "import smtplib\n",
    "import getpass\n",
    "\n",
    "gmail_user = to\n",
    "gmail_password = getpass.getpass(\"Enter your password: \")\n",
    "\n",
    "try: \n",
    "    server = smtplib.SMTP_SSL('smtp.gmail.com', 465)\n",
    "    print(1)\n",
    "    server.ehlo()\n",
    "    print(2)\n",
    "    server.login(gmail_user, gmail_password)\n",
    "    print(\"Connected to gmail servers\")\n",
    "except:  \n",
    "    print(\"Something went wrong...\")"
   ]
  },
  {
   "cell_type": "code",
   "execution_count": null,
   "metadata": {},
   "outputs": [],
   "source": [
    "# Mail Content\n",
    "from_mail = gmail_user\n",
    "#to = input(\"Who should receive the mail?\")\n",
    "\n",
    "subject = \"An email with attachment from Python\"\n",
    "body = \"This is an email with attachment sent from Python\"\n",
    "sender_email = to\n",
    "receiver_email = to\n",
    "\n",
    "\n",
    "# Create a multipart message and set headers\n",
    "message = MIMEMultipart()\n",
    "message[\"From\"] = sender_email\n",
    "message[\"To\"] = receiver_email\n",
    "message[\"Subject\"] = subject\n",
    "message[\"Bcc\"] = receiver_email  # Recommended for mass emails\n",
    "\n",
    "message.attach(MIMEText(body, \"plain\"))\n",
    "\n",
    "# Open PDF file in binary mode\n",
    "filename='Analisis_Contaminacion.pdf'\n",
    "filepath='../Output/Analisis_Contaminacion.pdf'\n",
    "\n",
    "with open(filepath, \"rb\") as attachment:\n",
    "    # Add file as application/octet-stream\n",
    "    # Email client can usually download this automatically as attachment\n",
    "    part = MIMEBase(\"application\", \"octet-stream\")\n",
    "    part.set_payload(attachment.read())\n",
    "\n",
    "    # Encode file in ASCII characters to send by email    \n",
    "encoders.encode_base64(part)\n",
    "\n",
    "# Add header as key/value pair to attachment part\n",
    "part.add_header(\n",
    "    \"Content-Disposition\",\n",
    "    f\"attachment; filename= {filename}\",\n",
    ")\n",
    "\n",
    "# Add attachment to message and convert message to string\n",
    "message.attach(part)\n",
    "text = message.as_string()\n",
    "\n",
    "\n",
    "\n",
    "\n",
    "server.sendmail(from_mail, to, text)\n",
    "\n",
    "# Want more? https://stackoverflow.com/questions/882712/sending-html-email-using-python"
   ]
  },
  {
   "cell_type": "code",
   "execution_count": null,
   "metadata": {},
   "outputs": [],
   "source": [
    "server.close()"
   ]
  },
  {
   "cell_type": "code",
   "execution_count": null,
   "metadata": {},
   "outputs": [],
   "source": [
    "clima"
   ]
  },
  {
   "cell_type": "code",
   "execution_count": null,
   "metadata": {},
   "outputs": [],
   "source": [
    "from fpdf import FPDF\n",
    " \n",
    "# Create instance of FPDF class\n",
    "# Letter size paper, use inches as unit of measure\n",
    "pdf=FPDF(format='letter', unit='in')\n",
    " \n",
    "# Add new page. Without this you cannot create the document.\n",
    "pdf.add_page()\n",
    " \n",
    "# Remember to always put one of these at least once.\n",
    "pdf.set_font('Times','',10.0) \n",
    " \n",
    "# Effective page width, or just epw\n",
    "epw = pdf.w - 2*pdf.l_margin\n",
    " \n",
    "# Set column width to 1/4 of effective page width to distribute content \n",
    "# evenly across table and page\n",
    "col_width = epw/4\n",
    " \n",
    "# Since we do not need to draw lines anymore, there is no need to separate\n",
    "# headers from data matrix.\n",
    " \n",
    "data = [['First name','Last name','Age','City'],\n",
    "['Jules','Smith',34,'San Juan'],\n",
    "['Mary','Ramos',45,'Orlando'],[\n",
    "'Carlson','Banks',19,'Los Angeles']\n",
    "]\n",
    " \n",
    "# Document title centered, 'B'old, 14 pt\n",
    "pdf.set_font('Times','B',14.0) \n",
    "pdf.cell(epw, 0.0, 'Demographic data', align='C')\n",
    "pdf.set_font('Times','',10.0) \n",
    "pdf.ln(0.5)\n",
    " \n",
    "# Text height is the same as current font size\n",
    "th = pdf.font_size\n",
    " \n",
    "for row in data:\n",
    "    for datum in row:\n",
    "        # Enter data in colums\n",
    "        # Notice the use of the function str to coerce any input to the \n",
    "        # string type. This is needed\n",
    "        # since pyFPDF expects a string, not a number.\n",
    "        pdf.cell(col_width, th, str(datum), border=1)\n",
    " \n",
    "    pdf.ln(th)\n",
    " \n",
    "# Line break equivalent to 4 lines\n",
    "pdf.ln(4*th)\n",
    " \n",
    "pdf.set_font('Times','B',14.0) \n",
    "pdf.cell(epw, 0.0, 'With more padding', align='C')\n",
    "pdf.set_font('Times','',10.0) \n",
    "pdf.ln(0.5)\n",
    " \n",
    "# Here we add more padding by passing 2*th as height\n",
    "for row in data:\n",
    "    for datum in row:\n",
    "        # Enter data in colums\n",
    "        pdf.cell(col_width, 2*th, str(datum), border=1)\n",
    " \n",
    "    pdf.ln(2*th)\n",
    " \n",
    "pdf.output('table-using-cell-borders.pdf','F')"
   ]
  },
  {
   "cell_type": "code",
   "execution_count": null,
   "metadata": {},
   "outputs": [],
   "source": []
  },
  {
   "cell_type": "code",
   "execution_count": null,
   "metadata": {},
   "outputs": [],
   "source": []
  },
  {
   "cell_type": "markdown",
   "metadata": {},
   "source": [
    "### Lluvia de varios dias"
   ]
  },
  {
   "cell_type": "code",
   "execution_count": null,
   "metadata": {},
   "outputs": [],
   "source": [
    "from selenium import webdriver\n",
    "from selenium.webdriver.support.ui import Select\n",
    "from selenium.webdriver.firefox.options import Options\n",
    "from bs4 import BeautifulSoup"
   ]
  },
  {
   "cell_type": "code",
   "execution_count": null,
   "metadata": {},
   "outputs": [],
   "source": [
    "dateI=datetime.datetime(day=1,month=2, year=2015)\n",
    "dateF=datetime.datetime(day=2,month=5, year=2017)"
   ]
  },
  {
   "cell_type": "code",
   "execution_count": null,
   "metadata": {},
   "outputs": [],
   "source": [
    "options = Options()\n",
    "#options.add_argument('--headless')\n",
    "\n",
    "driver = webdriver.Firefox(options=options)\n",
    "driver.get(\"https://datosclima.es/Aemet2013/Precipitacion2013.php\")\n",
    "    \n",
    "select = Select(driver.find_element_by_name('PROVINCIA'))\n",
    "select.select_by_value('Madrid')\n",
    "select = Select(driver.find_element_by_name('id_hija'))\n",
    "select.select_by_value(\"Madrid, Retiro\")\n",
    "\n",
    "element = driver.find_element_by_name(\"Iday\").send_keys(dateI.day)\n",
    "element = driver.find_element_by_name(\"Imonth\").send_keys(dateI.month)\n",
    "element = driver.find_element_by_name(\"Iyear\").send_keys(dateI.year)\n",
    "\n",
    "element = driver.find_element_by_name(\"Fday\").send_keys(dateF.day)\n",
    "element = driver.find_element_by_name(\"Fmonth\").send_keys(dateF.month)\n",
    "element = driver.find_element_by_name(\"Fyear\").send_keys(dateF.year)\n",
    "    \n",
    "driver.find_elements_by_xpath(\"/html/body/div[3]/div[2]/div[1]/div/form/input[5]\")[0].click()\n",
    "html = driver.page_source\n",
    "\n",
    "soup = BeautifulSoup(html, 'html.parser')\n",
    "\n"
   ]
  },
  {
   "cell_type": "code",
   "execution_count": null,
   "metadata": {},
   "outputs": [],
   "source": [
    "driver.quit()"
   ]
  },
  {
   "cell_type": "code",
   "execution_count": null,
   "metadata": {},
   "outputs": [],
   "source": [
    "table=soup.find_all(\"table\")"
   ]
  },
  {
   "cell_type": "code",
   "execution_count": null,
   "metadata": {},
   "outputs": [],
   "source": [
    "len(table)"
   ]
  },
  {
   "cell_type": "code",
   "execution_count": null,
   "metadata": {},
   "outputs": [],
   "source": []
  },
  {
   "cell_type": "code",
   "execution_count": null,
   "metadata": {},
   "outputs": [],
   "source": [
    "years=[]\n",
    "for i in range(2,len(table),4):\n",
    "    print(i)\n",
    "    years.append(table[i])\n"
   ]
  },
  {
   "cell_type": "code",
   "execution_count": null,
   "metadata": {},
   "outputs": [],
   "source": [
    "len(years)"
   ]
  },
  {
   "cell_type": "code",
   "execution_count": null,
   "metadata": {},
   "outputs": [],
   "source": []
  },
  {
   "cell_type": "code",
   "execution_count": null,
   "metadata": {},
   "outputs": [],
   "source": [
    "#days=year.find_all(\"tr\")"
   ]
  },
  {
   "cell_type": "code",
   "execution_count": null,
   "metadata": {},
   "outputs": [],
   "source": [
    "weather={}\n",
    "for year in years:\n",
    "    days=year.find_all(\"tr\")\n",
    "    for day in days[2:]:\n",
    "        try:\n",
    "            weather[datetime.datetime.strptime(day.text[0:10]+\"-12\", \"%d-%m-%Y-%H\")]=(float(day.text[10:]) if day.text[10:]!=\"\" else 0)\n",
    "        except ValueError as e:\n",
    "            pass\n",
    "        "
   ]
  },
  {
   "cell_type": "code",
   "execution_count": null,
   "metadata": {},
   "outputs": [],
   "source": [
    "day=days[2].text\n",
    "day\n",
    "clima={}\n",
    "clima[datetime.datetime.strptime(day[0:10]+\"-12\", \"%d-%m-%Y-%H\")]=float(day[10:])\n",
    "clima"
   ]
  },
  {
   "cell_type": "code",
   "execution_count": null,
   "metadata": {},
   "outputs": [],
   "source": [
    "len(weather)\n"
   ]
  },
  {
   "cell_type": "code",
   "execution_count": null,
   "metadata": {},
   "outputs": [],
   "source": []
  },
  {
   "cell_type": "code",
   "execution_count": null,
   "metadata": {},
   "outputs": [],
   "source": [
    "df_weather=pd.DataFrame(list(weather.items()),columns=['Date', 'rain'])\n"
   ]
  },
  {
   "cell_type": "code",
   "execution_count": null,
   "metadata": {},
   "outputs": [],
   "source": [
    "df_weather.head()"
   ]
  }
 ],
 "metadata": {
  "kernelspec": {
   "display_name": "Python 3",
   "language": "python",
   "name": "python3"
  },
  "language_info": {
   "codemirror_mode": {
    "name": "ipython",
    "version": 3
   },
   "file_extension": ".py",
   "mimetype": "text/x-python",
   "name": "python",
   "nbconvert_exporter": "python",
   "pygments_lexer": "ipython3",
   "version": "3.7.4"
  }
 },
 "nbformat": 4,
 "nbformat_minor": 2
}
