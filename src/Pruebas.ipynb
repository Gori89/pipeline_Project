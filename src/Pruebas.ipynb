{
 "cells": [
  {
   "cell_type": "code",
   "execution_count": null,
   "metadata": {},
   "outputs": [],
   "source": [
    "\n",
    "\n"
   ]
  },
  {
   "cell_type": "code",
   "execution_count": 1,
   "metadata": {},
   "outputs": [],
   "source": [
    "#scrap info"
   ]
  },
  {
   "cell_type": "code",
   "execution_count": 2,
   "metadata": {},
   "outputs": [],
   "source": [
    "import time\n",
    "import requests\n",
    "import matplotlib.pyplot as plt\n"
   ]
  },
  {
   "cell_type": "code",
   "execution_count": 3,
   "metadata": {},
   "outputs": [],
   "source": [
    "import tools.scraping as weather\n",
    "import tools.dataset as ds"
   ]
  },
  {
   "cell_type": "code",
   "execution_count": 4,
   "metadata": {},
   "outputs": [],
   "source": [
    "date=\"2017-12-11\""
   ]
  },
  {
   "cell_type": "code",
   "execution_count": 5,
   "metadata": {},
   "outputs": [
    {
     "data": {
      "text/plain": [
       "{'Tmax_C': 10.2,\n",
       " 'Tmin_C': 4.3,\n",
       " 'Prec_lm2': 0.0,\n",
       " 'Wind_ms': 3.1,\n",
       " 'Direction': 24.0}"
      ]
     },
     "execution_count": 5,
     "metadata": {},
     "output_type": "execute_result"
    }
   ],
   "source": [
    "weather.getWeather(date, \"Madrid\")"
   ]
  },
  {
   "cell_type": "code",
   "execution_count": null,
   "metadata": {},
   "outputs": [],
   "source": []
  },
  {
   "cell_type": "code",
   "execution_count": null,
   "metadata": {},
   "outputs": [],
   "source": []
  },
  {
   "cell_type": "code",
   "execution_count": null,
   "metadata": {},
   "outputs": [],
   "source": []
  },
  {
   "cell_type": "markdown",
   "metadata": {},
   "source": [
    "### Load datase"
   ]
  },
  {
   "cell_type": "code",
   "execution_count": 34,
   "metadata": {},
   "outputs": [
    {
     "name": "stdout",
     "output_type": "stream",
     "text": [
      "Fecha  2017-12-11\n",
      "Delta  40 days, 0:00:00\n",
      "Tamaño dataset  (279216, 16)\n"
     ]
    },
    {
     "data": {
      "text/html": [
       "<div>\n",
       "<style scoped>\n",
       "    .dataframe tbody tr th:only-of-type {\n",
       "        vertical-align: middle;\n",
       "    }\n",
       "\n",
       "    .dataframe tbody tr th {\n",
       "        vertical-align: top;\n",
       "    }\n",
       "\n",
       "    .dataframe thead th {\n",
       "        text-align: right;\n",
       "    }\n",
       "</style>\n",
       "<table border=\"1\" class=\"dataframe\">\n",
       "  <thead>\n",
       "    <tr style=\"text-align: right;\">\n",
       "      <th></th>\n",
       "      <th>date</th>\n",
       "      <th>BEN</th>\n",
       "      <th>CH4</th>\n",
       "      <th>CO</th>\n",
       "      <th>EBE</th>\n",
       "      <th>NMHC</th>\n",
       "      <th>NO</th>\n",
       "      <th>NO_2</th>\n",
       "      <th>NOx</th>\n",
       "      <th>O_3</th>\n",
       "      <th>PM10</th>\n",
       "      <th>PM25</th>\n",
       "      <th>SO_2</th>\n",
       "      <th>TCH</th>\n",
       "      <th>TOL</th>\n",
       "      <th>station</th>\n",
       "    </tr>\n",
       "  </thead>\n",
       "  <tbody>\n",
       "    <tr>\n",
       "      <th>0</th>\n",
       "      <td>2017-06-01 01:00:00</td>\n",
       "      <td>NaN</td>\n",
       "      <td>NaN</td>\n",
       "      <td>0.3</td>\n",
       "      <td>NaN</td>\n",
       "      <td>NaN</td>\n",
       "      <td>4.0</td>\n",
       "      <td>38.0</td>\n",
       "      <td>NaN</td>\n",
       "      <td>NaN</td>\n",
       "      <td>NaN</td>\n",
       "      <td>NaN</td>\n",
       "      <td>5.0</td>\n",
       "      <td>NaN</td>\n",
       "      <td>NaN</td>\n",
       "      <td>28079004</td>\n",
       "    </tr>\n",
       "    <tr>\n",
       "      <th>1</th>\n",
       "      <td>2017-06-01 01:00:00</td>\n",
       "      <td>0.6</td>\n",
       "      <td>NaN</td>\n",
       "      <td>0.3</td>\n",
       "      <td>0.4</td>\n",
       "      <td>0.08</td>\n",
       "      <td>3.0</td>\n",
       "      <td>39.0</td>\n",
       "      <td>NaN</td>\n",
       "      <td>71.0</td>\n",
       "      <td>22.0</td>\n",
       "      <td>9.0</td>\n",
       "      <td>7.0</td>\n",
       "      <td>1.4</td>\n",
       "      <td>2.9</td>\n",
       "      <td>28079008</td>\n",
       "    </tr>\n",
       "    <tr>\n",
       "      <th>2</th>\n",
       "      <td>2017-06-01 01:00:00</td>\n",
       "      <td>0.2</td>\n",
       "      <td>NaN</td>\n",
       "      <td>NaN</td>\n",
       "      <td>0.1</td>\n",
       "      <td>NaN</td>\n",
       "      <td>1.0</td>\n",
       "      <td>14.0</td>\n",
       "      <td>NaN</td>\n",
       "      <td>NaN</td>\n",
       "      <td>NaN</td>\n",
       "      <td>NaN</td>\n",
       "      <td>NaN</td>\n",
       "      <td>NaN</td>\n",
       "      <td>0.9</td>\n",
       "      <td>28079011</td>\n",
       "    </tr>\n",
       "    <tr>\n",
       "      <th>3</th>\n",
       "      <td>2017-06-01 01:00:00</td>\n",
       "      <td>NaN</td>\n",
       "      <td>NaN</td>\n",
       "      <td>0.2</td>\n",
       "      <td>NaN</td>\n",
       "      <td>NaN</td>\n",
       "      <td>1.0</td>\n",
       "      <td>9.0</td>\n",
       "      <td>NaN</td>\n",
       "      <td>91.0</td>\n",
       "      <td>NaN</td>\n",
       "      <td>NaN</td>\n",
       "      <td>NaN</td>\n",
       "      <td>NaN</td>\n",
       "      <td>NaN</td>\n",
       "      <td>28079016</td>\n",
       "    </tr>\n",
       "    <tr>\n",
       "      <th>4</th>\n",
       "      <td>2017-06-01 01:00:00</td>\n",
       "      <td>NaN</td>\n",
       "      <td>NaN</td>\n",
       "      <td>NaN</td>\n",
       "      <td>NaN</td>\n",
       "      <td>NaN</td>\n",
       "      <td>1.0</td>\n",
       "      <td>19.0</td>\n",
       "      <td>NaN</td>\n",
       "      <td>69.0</td>\n",
       "      <td>NaN</td>\n",
       "      <td>NaN</td>\n",
       "      <td>2.0</td>\n",
       "      <td>NaN</td>\n",
       "      <td>NaN</td>\n",
       "      <td>28079017</td>\n",
       "    </tr>\n",
       "  </tbody>\n",
       "</table>\n",
       "</div>"
      ],
      "text/plain": [
       "                  date  BEN  CH4   CO  EBE  NMHC   NO  NO_2  NOx   O_3  PM10  \\\n",
       "0  2017-06-01 01:00:00  NaN  NaN  0.3  NaN   NaN  4.0  38.0  NaN   NaN   NaN   \n",
       "1  2017-06-01 01:00:00  0.6  NaN  0.3  0.4  0.08  3.0  39.0  NaN  71.0  22.0   \n",
       "2  2017-06-01 01:00:00  0.2  NaN  NaN  0.1   NaN  1.0  14.0  NaN   NaN   NaN   \n",
       "3  2017-06-01 01:00:00  NaN  NaN  0.2  NaN   NaN  1.0   9.0  NaN  91.0   NaN   \n",
       "4  2017-06-01 01:00:00  NaN  NaN  NaN  NaN   NaN  1.0  19.0  NaN  69.0   NaN   \n",
       "\n",
       "   PM25  SO_2  TCH  TOL   station  \n",
       "0   NaN   5.0  NaN  NaN  28079004  \n",
       "1   9.0   7.0  1.4  2.9  28079008  \n",
       "2   NaN   NaN  NaN  0.9  28079011  \n",
       "3   NaN   NaN  NaN  NaN  28079016  \n",
       "4   NaN   2.0  NaN  NaN  28079017  "
      ]
     },
     "execution_count": 34,
     "metadata": {},
     "output_type": "execute_result"
    }
   ],
   "source": [
    "date1=ds.setDate(\"2017-12-11\")\n",
    "print(\"Fecha \",date1)\n",
    "#print(\"Periodo \",ds.getPeriod())\n",
    "delta=ds.setDelta(40)\n",
    "print(\"Delta \",delta)\n",
    "df_pollution=ds.getDataset(date1, delta)\n",
    "print(\"Tamaño dataset \",df_pollution.shape)\n",
    "df_pollution.head()"
   ]
  },
  {
   "cell_type": "code",
   "execution_count": null,
   "metadata": {},
   "outputs": [],
   "source": []
  },
  {
   "cell_type": "markdown",
   "metadata": {},
   "source": [
    "### Convertir date en el index de las filas y agrupar valores"
   ]
  },
  {
   "cell_type": "code",
   "execution_count": 37,
   "metadata": {},
   "outputs": [
    {
     "name": "stdout",
     "output_type": "stream",
     "text": [
      "Hola\n"
     ]
    },
    {
     "data": {
      "text/html": [
       "<div>\n",
       "<style scoped>\n",
       "    .dataframe tbody tr th:only-of-type {\n",
       "        vertical-align: middle;\n",
       "    }\n",
       "\n",
       "    .dataframe tbody tr th {\n",
       "        vertical-align: top;\n",
       "    }\n",
       "\n",
       "    .dataframe thead th {\n",
       "        text-align: right;\n",
       "    }\n",
       "</style>\n",
       "<table border=\"1\" class=\"dataframe\">\n",
       "  <thead>\n",
       "    <tr style=\"text-align: right;\">\n",
       "      <th></th>\n",
       "      <th>BEN</th>\n",
       "      <th>CH4</th>\n",
       "      <th>CO</th>\n",
       "      <th>EBE</th>\n",
       "      <th>NMHC</th>\n",
       "      <th>NO</th>\n",
       "      <th>NO_2</th>\n",
       "      <th>NOx</th>\n",
       "      <th>O_3</th>\n",
       "      <th>PM10</th>\n",
       "      <th>PM25</th>\n",
       "      <th>SO_2</th>\n",
       "      <th>TCH</th>\n",
       "      <th>TOL</th>\n",
       "      <th>station</th>\n",
       "    </tr>\n",
       "    <tr>\n",
       "      <th>datetime</th>\n",
       "      <th></th>\n",
       "      <th></th>\n",
       "      <th></th>\n",
       "      <th></th>\n",
       "      <th></th>\n",
       "      <th></th>\n",
       "      <th></th>\n",
       "      <th></th>\n",
       "      <th></th>\n",
       "      <th></th>\n",
       "      <th></th>\n",
       "      <th></th>\n",
       "      <th></th>\n",
       "      <th></th>\n",
       "      <th></th>\n",
       "    </tr>\n",
       "  </thead>\n",
       "  <tbody>\n",
       "    <tr>\n",
       "      <th>2017-01-01 01:00:00</th>\n",
       "      <td>1.38</td>\n",
       "      <td>NaN</td>\n",
       "      <td>0.61</td>\n",
       "      <td>0.150</td>\n",
       "      <td>0.166667</td>\n",
       "      <td>44.333333</td>\n",
       "      <td>47.541667</td>\n",
       "      <td>NaN</td>\n",
       "      <td>4.846154</td>\n",
       "      <td>25.000000</td>\n",
       "      <td>28.666667</td>\n",
       "      <td>13.8</td>\n",
       "      <td>1.543333</td>\n",
       "      <td>2.74</td>\n",
       "      <td>28079037.75</td>\n",
       "    </tr>\n",
       "    <tr>\n",
       "      <th>2017-01-01 02:00:00</th>\n",
       "      <td>1.52</td>\n",
       "      <td>NaN</td>\n",
       "      <td>0.63</td>\n",
       "      <td>0.175</td>\n",
       "      <td>0.190000</td>\n",
       "      <td>65.375000</td>\n",
       "      <td>53.000000</td>\n",
       "      <td>NaN</td>\n",
       "      <td>4.230769</td>\n",
       "      <td>45.666667</td>\n",
       "      <td>47.500000</td>\n",
       "      <td>11.1</td>\n",
       "      <td>1.583333</td>\n",
       "      <td>3.24</td>\n",
       "      <td>28079037.75</td>\n",
       "    </tr>\n",
       "    <tr>\n",
       "      <th>2017-01-01 03:00:00</th>\n",
       "      <td>1.92</td>\n",
       "      <td>NaN</td>\n",
       "      <td>0.60</td>\n",
       "      <td>0.225</td>\n",
       "      <td>0.176667</td>\n",
       "      <td>62.208333</td>\n",
       "      <td>52.666667</td>\n",
       "      <td>NaN</td>\n",
       "      <td>4.307692</td>\n",
       "      <td>40.555556</td>\n",
       "      <td>46.666667</td>\n",
       "      <td>9.2</td>\n",
       "      <td>1.590000</td>\n",
       "      <td>3.86</td>\n",
       "      <td>28079037.75</td>\n",
       "    </tr>\n",
       "    <tr>\n",
       "      <th>2017-01-01 04:00:00</th>\n",
       "      <td>1.48</td>\n",
       "      <td>NaN</td>\n",
       "      <td>0.58</td>\n",
       "      <td>0.200</td>\n",
       "      <td>0.166667</td>\n",
       "      <td>57.083333</td>\n",
       "      <td>50.125000</td>\n",
       "      <td>NaN</td>\n",
       "      <td>4.769231</td>\n",
       "      <td>32.200000</td>\n",
       "      <td>30.166667</td>\n",
       "      <td>8.7</td>\n",
       "      <td>1.590000</td>\n",
       "      <td>2.98</td>\n",
       "      <td>28079037.75</td>\n",
       "    </tr>\n",
       "    <tr>\n",
       "      <th>2017-01-01 05:00:00</th>\n",
       "      <td>1.32</td>\n",
       "      <td>NaN</td>\n",
       "      <td>0.48</td>\n",
       "      <td>0.150</td>\n",
       "      <td>0.160000</td>\n",
       "      <td>41.583333</td>\n",
       "      <td>44.750000</td>\n",
       "      <td>NaN</td>\n",
       "      <td>4.923077</td>\n",
       "      <td>25.454545</td>\n",
       "      <td>24.333333</td>\n",
       "      <td>9.6</td>\n",
       "      <td>1.583333</td>\n",
       "      <td>2.56</td>\n",
       "      <td>28079037.75</td>\n",
       "    </tr>\n",
       "  </tbody>\n",
       "</table>\n",
       "</div>"
      ],
      "text/plain": [
       "                      BEN  CH4    CO    EBE      NMHC         NO       NO_2  \\\n",
       "datetime                                                                      \n",
       "2017-01-01 01:00:00  1.38  NaN  0.61  0.150  0.166667  44.333333  47.541667   \n",
       "2017-01-01 02:00:00  1.52  NaN  0.63  0.175  0.190000  65.375000  53.000000   \n",
       "2017-01-01 03:00:00  1.92  NaN  0.60  0.225  0.176667  62.208333  52.666667   \n",
       "2017-01-01 04:00:00  1.48  NaN  0.58  0.200  0.166667  57.083333  50.125000   \n",
       "2017-01-01 05:00:00  1.32  NaN  0.48  0.150  0.160000  41.583333  44.750000   \n",
       "\n",
       "                     NOx       O_3       PM10       PM25  SO_2       TCH  \\\n",
       "datetime                                                                   \n",
       "2017-01-01 01:00:00  NaN  4.846154  25.000000  28.666667  13.8  1.543333   \n",
       "2017-01-01 02:00:00  NaN  4.230769  45.666667  47.500000  11.1  1.583333   \n",
       "2017-01-01 03:00:00  NaN  4.307692  40.555556  46.666667   9.2  1.590000   \n",
       "2017-01-01 04:00:00  NaN  4.769231  32.200000  30.166667   8.7  1.590000   \n",
       "2017-01-01 05:00:00  NaN  4.923077  25.454545  24.333333   9.6  1.583333   \n",
       "\n",
       "                      TOL      station  \n",
       "datetime                                \n",
       "2017-01-01 01:00:00  2.74  28079037.75  \n",
       "2017-01-01 02:00:00  3.24  28079037.75  \n",
       "2017-01-01 03:00:00  3.86  28079037.75  \n",
       "2017-01-01 04:00:00  2.98  28079037.75  \n",
       "2017-01-01 05:00:00  2.56  28079037.75  "
      ]
     },
     "execution_count": 37,
     "metadata": {},
     "output_type": "execute_result"
    }
   ],
   "source": [
    "df_pollution=ds.dateToIndex(df_pollution)\n",
    "df_pollution_mean=ds.meanbyDate(df_pollution)\n",
    "df_pollution_mean.head()"
   ]
  },
  {
   "cell_type": "code",
   "execution_count": null,
   "metadata": {},
   "outputs": [],
   "source": []
  },
  {
   "cell_type": "markdown",
   "metadata": {},
   "source": [
    "### Pintar grafica"
   ]
  },
  {
   "cell_type": "code",
   "execution_count": 28,
   "metadata": {},
   "outputs": [
    {
     "data": {
      "text/plain": [
       "Index(['BEN', 'CH4', 'CO', 'EBE', 'NMHC', 'NO', 'NO_2', 'NOx', 'O_3', 'PM10',\n",
       "       'PM25', 'SO_2', 'TCH', 'TOL', 'station'],\n",
       "      dtype='object')"
      ]
     },
     "execution_count": 28,
     "metadata": {},
     "output_type": "execute_result"
    }
   ],
   "source": [
    "#date=datetime.date(2017,1,20)\n",
    "#dateDelta=datetime.timedelta(days=4)\n",
    "filter_before=df_pollution_mean.index.date>=(date1-delta)\n",
    "filter_after=df_pollution_mean.index.date<=(date1+delta)\n",
    "\n",
    "df=df_pollution_mean[filter_before & filter_after]\n",
    "\n",
    "df.columns"
   ]
  },
  {
   "cell_type": "code",
   "execution_count": null,
   "metadata": {},
   "outputs": [],
   "source": []
  },
  {
   "cell_type": "code",
   "execution_count": 9,
   "metadata": {},
   "outputs": [],
   "source": [
    "# pintar sobre la gáfica los l/m2\n"
   ]
  },
  {
   "cell_type": "code",
   "execution_count": 15,
   "metadata": {},
   "outputs": [
    {
     "name": "stderr",
     "output_type": "stream",
     "text": [
      "/home/linuxbrew/.linuxbrew/opt/python/lib/python3.7/site-packages/ipykernel_launcher.py:1: SettingWithCopyWarning: \n",
      "A value is trying to be set on a copy of a slice from a DataFrame.\n",
      "Try using .loc[row_indexer,col_indexer] = value instead\n",
      "\n",
      "See the caveats in the documentation: http://pandas.pydata.org/pandas-docs/stable/user_guide/indexing.html#returning-a-view-versus-a-copy\n",
      "  \"\"\"Entry point for launching an IPython kernel.\n"
     ]
    },
    {
     "data": {
      "image/png": "[encoded data removed]",
      "text/plain": [
       "<Figure size 432x288 with 1 Axes>"
      ]
     },
     "metadata": {
      "needs_background": "light"
     },
     "output_type": "display_data"
    }
   ],
   "source": [
    "\n",
    "plt.plot(df[\"BEN\"])\n",
    "plt.xticks(rotation=45)\n",
    "plt.savefig(\"fig.png\")"
   ]
  },
  {
   "cell_type": "code",
   "execution_count": 40,
   "metadata": {},
   "outputs": [
    {
     "data": {
      "text/html": [
       "<div>\n",
       "<style scoped>\n",
       "    .dataframe tbody tr th:only-of-type {\n",
       "        vertical-align: middle;\n",
       "    }\n",
       "\n",
       "    .dataframe tbody tr th {\n",
       "        vertical-align: top;\n",
       "    }\n",
       "\n",
       "    .dataframe thead th {\n",
       "        text-align: right;\n",
       "    }\n",
       "</style>\n",
       "<table border=\"1\" class=\"dataframe\">\n",
       "  <thead>\n",
       "    <tr style=\"text-align: right;\">\n",
       "      <th></th>\n",
       "      <th>BEN</th>\n",
       "      <th>CH4</th>\n",
       "      <th>CO</th>\n",
       "      <th>EBE</th>\n",
       "      <th>NMHC</th>\n",
       "      <th>NO</th>\n",
       "      <th>NO_2</th>\n",
       "      <th>NOx</th>\n",
       "      <th>O_3</th>\n",
       "      <th>PM10</th>\n",
       "      <th>PM25</th>\n",
       "      <th>SO_2</th>\n",
       "      <th>TCH</th>\n",
       "      <th>TOL</th>\n",
       "      <th>station</th>\n",
       "    </tr>\n",
       "    <tr>\n",
       "      <th>date</th>\n",
       "      <th></th>\n",
       "      <th></th>\n",
       "      <th></th>\n",
       "      <th></th>\n",
       "      <th></th>\n",
       "      <th></th>\n",
       "      <th></th>\n",
       "      <th></th>\n",
       "      <th></th>\n",
       "      <th></th>\n",
       "      <th></th>\n",
       "      <th></th>\n",
       "      <th></th>\n",
       "      <th></th>\n",
       "      <th></th>\n",
       "    </tr>\n",
       "  </thead>\n",
       "  <tbody>\n",
       "    <tr>\n",
       "      <th>2017-01-01 01:00:00</th>\n",
       "      <td>1.38</td>\n",
       "      <td>NaN</td>\n",
       "      <td>0.61</td>\n",
       "      <td>0.150</td>\n",
       "      <td>0.166667</td>\n",
       "      <td>44.333333</td>\n",
       "      <td>47.541667</td>\n",
       "      <td>NaN</td>\n",
       "      <td>4.846154</td>\n",
       "      <td>25.000000</td>\n",
       "      <td>28.666667</td>\n",
       "      <td>13.8</td>\n",
       "      <td>1.543333</td>\n",
       "      <td>2.74</td>\n",
       "      <td>28079037.75</td>\n",
       "    </tr>\n",
       "    <tr>\n",
       "      <th>2017-01-01 02:00:00</th>\n",
       "      <td>1.52</td>\n",
       "      <td>NaN</td>\n",
       "      <td>0.63</td>\n",
       "      <td>0.175</td>\n",
       "      <td>0.190000</td>\n",
       "      <td>65.375000</td>\n",
       "      <td>53.000000</td>\n",
       "      <td>NaN</td>\n",
       "      <td>4.230769</td>\n",
       "      <td>45.666667</td>\n",
       "      <td>47.500000</td>\n",
       "      <td>11.1</td>\n",
       "      <td>1.583333</td>\n",
       "      <td>3.24</td>\n",
       "      <td>28079037.75</td>\n",
       "    </tr>\n",
       "    <tr>\n",
       "      <th>2017-01-01 03:00:00</th>\n",
       "      <td>1.92</td>\n",
       "      <td>NaN</td>\n",
       "      <td>0.60</td>\n",
       "      <td>0.225</td>\n",
       "      <td>0.176667</td>\n",
       "      <td>62.208333</td>\n",
       "      <td>52.666667</td>\n",
       "      <td>NaN</td>\n",
       "      <td>4.307692</td>\n",
       "      <td>40.555556</td>\n",
       "      <td>46.666667</td>\n",
       "      <td>9.2</td>\n",
       "      <td>1.590000</td>\n",
       "      <td>3.86</td>\n",
       "      <td>28079037.75</td>\n",
       "    </tr>\n",
       "    <tr>\n",
       "      <th>2017-01-01 04:00:00</th>\n",
       "      <td>1.48</td>\n",
       "      <td>NaN</td>\n",
       "      <td>0.58</td>\n",
       "      <td>0.200</td>\n",
       "      <td>0.166667</td>\n",
       "      <td>57.083333</td>\n",
       "      <td>50.125000</td>\n",
       "      <td>NaN</td>\n",
       "      <td>4.769231</td>\n",
       "      <td>32.200000</td>\n",
       "      <td>30.166667</td>\n",
       "      <td>8.7</td>\n",
       "      <td>1.590000</td>\n",
       "      <td>2.98</td>\n",
       "      <td>28079037.75</td>\n",
       "    </tr>\n",
       "    <tr>\n",
       "      <th>2017-01-01 05:00:00</th>\n",
       "      <td>1.32</td>\n",
       "      <td>NaN</td>\n",
       "      <td>0.48</td>\n",
       "      <td>0.150</td>\n",
       "      <td>0.160000</td>\n",
       "      <td>41.583333</td>\n",
       "      <td>44.750000</td>\n",
       "      <td>NaN</td>\n",
       "      <td>4.923077</td>\n",
       "      <td>25.454545</td>\n",
       "      <td>24.333333</td>\n",
       "      <td>9.6</td>\n",
       "      <td>1.583333</td>\n",
       "      <td>2.56</td>\n",
       "      <td>28079037.75</td>\n",
       "    </tr>\n",
       "  </tbody>\n",
       "</table>\n",
       "</div>"
      ],
      "text/plain": [
       "                      BEN  CH4    CO    EBE      NMHC         NO       NO_2  \\\n",
       "date                                                                          \n",
       "2017-01-01 01:00:00  1.38  NaN  0.61  0.150  0.166667  44.333333  47.541667   \n",
       "2017-01-01 02:00:00  1.52  NaN  0.63  0.175  0.190000  65.375000  53.000000   \n",
       "2017-01-01 03:00:00  1.92  NaN  0.60  0.225  0.176667  62.208333  52.666667   \n",
       "2017-01-01 04:00:00  1.48  NaN  0.58  0.200  0.166667  57.083333  50.125000   \n",
       "2017-01-01 05:00:00  1.32  NaN  0.48  0.150  0.160000  41.583333  44.750000   \n",
       "\n",
       "                     NOx       O_3       PM10       PM25  SO_2       TCH  \\\n",
       "date                                                                       \n",
       "2017-01-01 01:00:00  NaN  4.846154  25.000000  28.666667  13.8  1.543333   \n",
       "2017-01-01 02:00:00  NaN  4.230769  45.666667  47.500000  11.1  1.583333   \n",
       "2017-01-01 03:00:00  NaN  4.307692  40.555556  46.666667   9.2  1.590000   \n",
       "2017-01-01 04:00:00  NaN  4.769231  32.200000  30.166667   8.7  1.590000   \n",
       "2017-01-01 05:00:00  NaN  4.923077  25.454545  24.333333   9.6  1.583333   \n",
       "\n",
       "                      TOL      station  \n",
       "date                                    \n",
       "2017-01-01 01:00:00  2.74  28079037.75  \n",
       "2017-01-01 02:00:00  3.24  28079037.75  \n",
       "2017-01-01 03:00:00  3.86  28079037.75  \n",
       "2017-01-01 04:00:00  2.98  28079037.75  \n",
       "2017-01-01 05:00:00  2.56  28079037.75  "
      ]
     },
     "execution_count": 40,
     "metadata": {},
     "output_type": "execute_result"
    }
   ],
   "source": [
    "df.head()"
   ]
  },
  {
   "cell_type": "code",
   "execution_count": 32,
   "metadata": {},
   "outputs": [
    {
     "data": {
      "text/plain": [
       "Index(['BEN', 'CH4', 'CO', 'EBE', 'NMHC', 'NO', 'NO_2', 'NOx', 'O_3', 'PM10',\n",
       "       'PM25', 'SO_2', 'TCH', 'TOL', 'station'],\n",
       "      dtype='object')"
      ]
     },
     "execution_count": 32,
     "metadata": {},
     "output_type": "execute_result"
    }
   ],
   "source": [
    "df.date=df.index\n",
    "df.date\n",
    "df.columns\n"
   ]
  },
  {
   "cell_type": "code",
   "execution_count": 58,
   "metadata": {},
   "outputs": [
    {
     "data": {
      "image/png": "[encoded data removed]",
      "text/plain": [
       "<Figure size 720x360 with 1 Axes>"
      ]
     },
     "metadata": {
      "needs_background": "light"
     },
     "output_type": "display_data"
    }
   ],
   "source": [
    "fig, ax = plt.subplots()\n",
    "df.plot(y=\"BEN\", ax=ax,figsize=(10,5))\n",
    "plt.xticks(rotation='25')\n",
    "\n",
    "fig.savefig(\"fig.png\")"
   ]
  },
  {
   "cell_type": "code",
   "execution_count": null,
   "metadata": {},
   "outputs": [],
   "source": [
    "#Crear PDF\n",
    "\n"
   ]
  },
  {
   "cell_type": "code",
   "execution_count": 59,
   "metadata": {},
   "outputs": [
    {
     "data": {
      "text/plain": [
       "''"
      ]
     },
     "execution_count": 59,
     "metadata": {},
     "output_type": "execute_result"
    }
   ],
   "source": [
    "from fpdf import FPDF\n",
    "\n",
    "pdf = FPDF()\n",
    "pdf.add_page()\n",
    "pdf.set_font('Arial', 'B', 16)\n",
    "pdf.cell(40, 10, 'Analisis de contaminacion en Madrid')\n",
    "pdf.image('fig.png',50,50)\n",
    "pdf.output('Analiseis_Contaminacion_{}-{}-{}.pdf'.format(date1.day,date1.month,date1.year), 'F')\n"
   ]
  },
  {
   "cell_type": "code",
   "execution_count": null,
   "metadata": {},
   "outputs": [],
   "source": [
    "#Enviar mail\n",
    "import os\n",
    "\n",
    "os.getcwd()\n",
    "\n"
   ]
  },
  {
   "cell_type": "code",
   "execution_count": 67,
   "metadata": {},
   "outputs": [
    {
     "data": {
      "text/plain": [
       "datetime.date(2017, 12, 11)"
      ]
     },
     "execution_count": 67,
     "metadata": {},
     "output_type": "execute_result"
    }
   ],
   "source": [
    "date1\n"
   ]
  },
  {
   "cell_type": "code",
   "execution_count": null,
   "metadata": {},
   "outputs": [],
   "source": [
    "#Adjuntar pdf al mail"
   ]
  },
  {
   "cell_type": "code",
   "execution_count": 70,
   "metadata": {},
   "outputs": [],
   "source": [
    "from email import encoders\n",
    "from email.mime.base import MIMEBase\n",
    "from email.mime.multipart import MIMEMultipart\n",
    "from email.mime.text import MIMEText"
   ]
  },
  {
   "cell_type": "code",
   "execution_count": 64,
   "metadata": {},
   "outputs": [],
   "source": [
    "to=\"pipeironhack@gmail.com\""
   ]
  },
  {
   "cell_type": "code",
   "execution_count": 77,
   "metadata": {},
   "outputs": [
    {
     "name": "stdout",
     "output_type": "stream",
     "text": [
      "Enter your password: ········\n",
      "1\n",
      "2\n",
      "Connected to gmail servers\n"
     ]
    }
   ],
   "source": [
    "import smtplib\n",
    "import getpass\n",
    "\n",
    "gmail_user = to\n",
    "gmail_password = getpass.getpass(\"Enter your password: \")\n",
    "\n",
    "try: \n",
    "    server = smtplib.SMTP_SSL('smtp.gmail.com', 465)\n",
    "    print(1)\n",
    "    server.ehlo()\n",
    "    print(2)\n",
    "    server.login(gmail_user, gmail_password)\n",
    "    print(\"Connected to gmail servers\")\n",
    "except:  \n",
    "    print(\"Something went wrong...\")"
   ]
  },
  {
   "cell_type": "code",
   "execution_count": 80,
   "metadata": {},
   "outputs": [
    {
     "data": {
      "text/plain": [
       "{}"
      ]
     },
     "execution_count": 80,
     "metadata": {},
     "output_type": "execute_result"
    }
   ],
   "source": [
    "# Mail Content\n",
    "from_mail = gmail_user\n",
    "#to = input(\"Who should receive the mail?\")\n",
    "\n",
    "subject = \"An email with attachment from Python\"\n",
    "body = \"This is an email with attachment sent from Python\"\n",
    "sender_email = to\n",
    "receiver_email = to\n",
    "\n",
    "\n",
    "# Create a multipart message and set headers\n",
    "message = MIMEMultipart()\n",
    "message[\"From\"] = sender_email\n",
    "message[\"To\"] = receiver_email\n",
    "message[\"Subject\"] = subject\n",
    "message[\"Bcc\"] = receiver_email  # Recommended for mass emails\n",
    "\n",
    "message.attach(MIMEText(body, \"plain\"))\n",
    "\n",
    "# Open PDF file in binary mode\n",
    "filename='Analisis_Contaminacion.pdf'\n",
    "filepath='../Output/Analisis_Contaminacion.pdf'\n",
    "\n",
    "with open(filepath, \"rb\") as attachment:\n",
    "    # Add file as application/octet-stream\n",
    "    # Email client can usually download this automatically as attachment\n",
    "    part = MIMEBase(\"application\", \"octet-stream\")\n",
    "    part.set_payload(attachment.read())\n",
    "\n",
    "    # Encode file in ASCII characters to send by email    \n",
    "encoders.encode_base64(part)\n",
    "\n",
    "# Add header as key/value pair to attachment part\n",
    "part.add_header(\n",
    "    \"Content-Disposition\",\n",
    "    f\"attachment; filename= {filename}\",\n",
    ")\n",
    "\n",
    "# Add attachment to message and convert message to string\n",
    "message.attach(part)\n",
    "text = message.as_string()\n",
    "\n",
    "\n",
    "\n",
    "\n",
    "server.sendmail(from_mail, to, text)\n",
    "\n",
    "# Want more? https://stackoverflow.com/questions/882712/sending-html-email-using-python"
   ]
  },
  {
   "cell_type": "code",
   "execution_count": 81,
   "metadata": {},
   "outputs": [],
   "source": [
    "server.close()"
   ]
  },
  {
   "cell_type": "code",
   "execution_count": null,
   "metadata": {},
   "outputs": [],
   "source": []
  },
  {
   "cell_type": "code",
   "execution_count": null,
   "metadata": {},
   "outputs": [],
   "source": []
  }
 ],
 "metadata": {
  "kernelspec": {
   "display_name": "Python 3",
   "language": "python",
   "name": "python3"
  },
  "language_info": {
   "codemirror_mode": {
    "name": "ipython",
    "version": 3
   },
   "file_extension": ".py",
   "mimetype": "text/x-python",
   "name": "python",
   "nbconvert_exporter": "python",
   "pygments_lexer": "ipython3",
   "version": "3.7.4"
  }
 },
 "nbformat": 4,
 "nbformat_minor": 2
}
